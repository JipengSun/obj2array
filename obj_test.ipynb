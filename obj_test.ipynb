{
 "cells": [
  {
   "cell_type": "code",
   "execution_count": 19,
   "metadata": {},
   "outputs": [],
   "source": [
    "import numpy as np"
   ]
  },
  {
   "cell_type": "code",
   "execution_count": null,
   "metadata": {},
   "outputs": [],
   "source": [
    "data_path = './obj_data/'\n",
    "file_name = 'TeddyBear01-n.obj'"
   ]
  },
  {
   "cell_type": "code",
   "execution_count": 45,
   "metadata": {},
   "outputs": [],
   "source": [
    "def normalize_CVV(vertexArray):\n",
    "    va = np.array(vertexArray).astype(float)\n",
    "    vb = (va-np.min(va))*2/(np.max(va)-np.min(va))-1\n",
    "    # Concate w\n",
    "    vc = np.concatenate((vb,np.ones((va.shape[0],1)).astype(float)),axis = 1)\n",
    "    return vc"
   ]
  },
  {
   "cell_type": "code",
   "execution_count": 31,
   "metadata": {},
   "outputs": [],
   "source": [
    "# Reading .obj file\n",
    "file1 = open(data_path+file_name, 'r')\n",
    "Lines = file1.readlines()\n",
    "count = 0\n",
    "vertexArray = []\n",
    "for line in Lines:\n",
    "    count += 1\n",
    "    #print(\"Line{}: {}\".format(count, line.strip()))\n",
    "    if line[:2] == 'v ':\n",
    "        vertex = line[2:].split()\n",
    "        #vertex.append('1.0')\n",
    "        vertexArray.append(vertex)\n",
    "\n",
    "file1.close()\n",
    "#print(vertexArray)"
   ]
  },
  {
   "cell_type": "code",
   "execution_count": 47,
   "metadata": {},
   "outputs": [
    {
     "data": {
      "text/plain": [
       "array([[-0.22769774,  0.40682273,  0.39658074,  1.        ],\n",
       "       [-0.21816267,  0.54939837,  0.37088698,  1.        ],\n",
       "       [-0.20928954,  0.66970909,  0.3007074 ,  1.        ],\n",
       "       ...,\n",
       "       [ 0.30853188, -0.67899432, -0.32644519,  1.        ],\n",
       "       [ 0.2394761 , -0.78230446, -0.26203969,  1.        ],\n",
       "       [ 0.33448553, -0.81037074, -0.15266256,  1.        ]])"
      ]
     },
     "execution_count": 47,
     "metadata": {},
     "output_type": "execute_result"
    }
   ],
   "source": [
    "va = normalize_CVV(vertexArray)\n",
    "\n",
    "np.min(va)\n",
    "va"
   ]
  },
  {
   "cell_type": "code",
   "execution_count": 49,
   "metadata": {},
   "outputs": [
    {
     "name": "stdout",
     "output_type": "stream",
     "text": [
      "Number of Vertices: 1598\n"
     ]
    }
   ],
   "source": [
    "vertexArray = va.tolist()\n",
    "with open('vertex_array_output.txt', 'w') as f:\n",
    "    for idx,vertex in enumerate(vertexArray):\n",
    "        f.write(','.join(str(x) for x in vertex))\n",
    "        if idx < len(vertexArray)-1:\n",
    "            f.write(',\\n')\n",
    "f.close()\n",
    "\n",
    "print('Number of Vertices: '+str(len(vertexArray)))\n"
   ]
  }
 ],
 "metadata": {
  "interpreter": {
   "hash": "40d3a090f54c6569ab1632332b64b2c03c39dcf918b08424e98f38b5ae0af88f"
  },
  "kernelspec": {
   "display_name": "Python 3.7.12 ('base')",
   "language": "python",
   "name": "python3"
  },
  "language_info": {
   "codemirror_mode": {
    "name": "ipython",
    "version": 3
   },
   "file_extension": ".py",
   "mimetype": "text/x-python",
   "name": "python",
   "nbconvert_exporter": "python",
   "pygments_lexer": "ipython3",
   "version": "3.9.12"
  },
  "orig_nbformat": 4
 },
 "nbformat": 4,
 "nbformat_minor": 2
}
