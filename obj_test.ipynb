{
 "cells": [
  {
   "cell_type": "code",
   "execution_count": 1,
   "metadata": {},
   "outputs": [],
   "source": [
    "import numpy as np"
   ]
  },
  {
   "cell_type": "code",
   "execution_count": 2,
   "metadata": {},
   "outputs": [],
   "source": [
    "data_path = './obj_data/'\n",
    "output_folder = './output/'\n",
    "#file_name = 'TeddyBear01-n.obj'\n",
    "file_name = 'tyra.obj'\n"
   ]
  },
  {
   "cell_type": "code",
   "execution_count": 3,
   "metadata": {},
   "outputs": [],
   "source": [
    "def normalize_CVV(vertexArray):\n",
    "    va = np.array(vertexArray).astype(float)\n",
    "    vb = (va-np.min(va))*2/(np.max(va)-np.min(va))-1\n",
    "    # Concate w\n",
    "    vc = np.concatenate((vb,np.ones((va.shape[0],1)).astype(float)),axis = 1)\n",
    "    vc = vc.tolist()\n",
    "    return vc"
   ]
  },
  {
   "cell_type": "code",
   "execution_count": 9,
   "metadata": {},
   "outputs": [],
   "source": [
    "# Reading .obj file\n",
    "file1 = open(data_path+file_name, 'r')\n",
    "Lines = file1.readlines()\n",
    "count = 0\n",
    "vertexArray = []\n",
    "vertexIndexArray = []\n",
    "for line in Lines:\n",
    "    count += 1\n",
    "    #print(\"Line{}: {}\".format(count, line.strip()))\n",
    "    if line[:2] == 'v ':\n",
    "        vertex = line[2:].split()\n",
    "        #vertex.append('1.0')\n",
    "        vertexArray.append(vertex)\n",
    "    if line[:2] == 'f ':\n",
    "        vIndex = line[2:].split()\n",
    "        if '/' in vIndex[0]:\n",
    "            vIA = []\n",
    "            for vI in vIndex:\n",
    "                vTemp = vI.split('/')\n",
    "                vIA.append(vTemp[0])\n",
    "            vertexIndexArray.append(vIA)\n",
    "        else:\n",
    "            vertexIndexArray.append(vIndex)\n",
    "\n",
    "\n",
    "file1.close()\n",
    "#print(vertexArray)\n",
    "#print(vertexIndexArray)"
   ]
  },
  {
   "cell_type": "code",
   "execution_count": 5,
   "metadata": {},
   "outputs": [
    {
     "data": {
      "text/plain": [
       "600000"
      ]
     },
     "execution_count": 5,
     "metadata": {},
     "output_type": "execute_result"
    }
   ],
   "source": [
    "va = normalize_CVV(vertexArray)\n",
    "final_vertex_array = []\n",
    "for idx,triangle in enumerate(vertexIndexArray):\n",
    "    for i in range(3):\n",
    "        final_vertex_array.append(va[int(triangle[i])-1])\n",
    "\n",
    "len(final_vertex_array)"
   ]
  },
  {
   "cell_type": "code",
   "execution_count": 6,
   "metadata": {},
   "outputs": [],
   "source": [
    "def add_surface_normal(final_vertex_array):\n",
    "    vf = np.array(final_vertex_array).astype(float)\n",
    "    #print(vf.shape)\n",
    "    edge1 = vf[1::3] - vf[0::3]\n",
    "    edge2 = vf[2::3] - vf[0::3]\n",
    "    normal = np.cross(edge1[:,:3],edge2[:,:3])\n",
    "    normal_norm = (normal.T/np.linalg.norm(normal,axis=1).T).T\n",
    "    vn = np.repeat(normal_norm,3,axis=0)\n",
    "    #print(vn.shape)\n",
    "    vc = np.concatenate((vf,vn),axis = 1)\n",
    "    vc = vc.tolist()\n",
    "    return vc\n",
    "    #print(vc)\n",
    "\n",
    "\n",
    "vertex_normal_array = add_surface_normal(final_vertex_array)"
   ]
  },
  {
   "cell_type": "code",
   "execution_count": 7,
   "metadata": {},
   "outputs": [
    {
     "name": "stdout",
     "output_type": "stream",
     "text": [
      "Number of Vertices: 600000\n"
     ]
    }
   ],
   "source": [
    "with open(output_folder+'vertex_normal_array_output.txt', 'w') as f:\n",
    "    for idx,vertex in enumerate(vertex_normal_array):\n",
    "        f.write(','.join(str(x) for x in vertex))\n",
    "        if idx < len(vertex_normal_array)-1:\n",
    "            f.write(',\\n')\n",
    "f.close()\n",
    "\n",
    "print('Number of Vertices: '+str(len(vertex_normal_array)))"
   ]
  },
  {
   "cell_type": "code",
   "execution_count": 8,
   "metadata": {},
   "outputs": [
    {
     "name": "stdout",
     "output_type": "stream",
     "text": [
      "Number of Vertices: 600000\n"
     ]
    }
   ],
   "source": [
    "with open(output_folder+'vertex_array_output.txt', 'w') as f:\n",
    "    for idx,vertex in enumerate(final_vertex_array):\n",
    "        f.write(','.join(str(x) for x in vertex))\n",
    "        if idx < len(final_vertex_array)-1:\n",
    "            f.write(',\\n')\n",
    "f.close()\n",
    "\n",
    "print('Number of Vertices: '+str(len(final_vertex_array)))\n"
   ]
  }
 ],
 "metadata": {
  "interpreter": {
   "hash": "40d3a090f54c6569ab1632332b64b2c03c39dcf918b08424e98f38b5ae0af88f"
  },
  "kernelspec": {
   "display_name": "Python 3.7.12 ('base')",
   "language": "python",
   "name": "python3"
  },
  "language_info": {
   "codemirror_mode": {
    "name": "ipython",
    "version": 3
   },
   "file_extension": ".py",
   "mimetype": "text/x-python",
   "name": "python",
   "nbconvert_exporter": "python",
   "pygments_lexer": "ipython3",
   "version": "3.9.12"
  },
  "orig_nbformat": 4
 },
 "nbformat": 4,
 "nbformat_minor": 2
}
